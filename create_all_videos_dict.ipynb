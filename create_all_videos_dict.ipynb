{
 "cells": [
  {
   "cell_type": "code",
   "execution_count": null,
   "metadata": {},
   "outputs": [],
   "source": [
    "#read all the processed videos into memory (a big dictionary)\n",
    "video_ids = set(alldata[\"videoid\"].values)\n",
    "all_videos = {}\n",
    "for i,video_id in enumerate(video_ids):\n",
    "    if(i % 100 == 0):\n",
    "        print(\"%.2f percent done\") % (i*100./len(video_ids))\n",
    "    file_string_L = '%s/video_csvs/%s_L.csv' % ('../data',video_id)\n",
    "    file_string_R = '%s/video_csvs/%s_R.csv' % ('../data',video_id)\n",
    "    try: \n",
    "        all_videos[video_id + \"_L\"] = np.loadtxt(file_string_L, delimiter=',')\n",
    "    except:\n",
    "        print(\"missing %s L\") %video_id\n",
    "    try: \n",
    "        all_videos[video_id + \"_R\"] = np.loadtxt(file_string_R, delimiter=',')\n",
    "    except:\n",
    "        print(\"missing %s R\") %video_id\n",
    "with open('./data/all_videos_dict.pickle', 'wb') as handle:\n",
    "    pickle.dump(all_videos, handle, protocol=pickle.HIGHEST_PROTOCOL)"
   ]
  }
 ],
 "metadata": {
  "kernelspec": {
   "display_name": "Python 3",
   "language": "python",
   "name": "python3"
  },
  "language_info": {
   "codemirror_mode": {
    "name": "ipython",
    "version": 3
   },
   "file_extension": ".py",
   "mimetype": "text/x-python",
   "name": "python",
   "nbconvert_exporter": "python",
   "pygments_lexer": "ipython3",
   "version": "3.8.2"
  }
 },
 "nbformat": 4,
 "nbformat_minor": 2
}
