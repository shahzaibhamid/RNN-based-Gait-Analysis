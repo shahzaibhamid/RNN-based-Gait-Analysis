{
 "cells": [
  {
   "cell_type": "code",
   "execution_count": 1,
   "metadata": {},
   "outputs": [],
   "source": [
    "import numpy as np\n",
    "import os\n",
    "import matplotlib.pyplot as plt\n",
    "import pandas as pd\n",
    "import sys\n",
    "from statsmodels.regression.linear_model import OLS\n",
    "from statsmodels.discrete.discrete_model import Logit\n",
    "from statsmodels.tools import add_constant\n",
    "import datetime\n",
    "from sklearn.metrics import roc_auc_score\n",
    "import statsmodels.api as sm\n",
    "%matplotlib inline"
   ]
  },
  {
   "cell_type": "code",
   "execution_count": 3,
   "metadata": {
    "scrolled": true
   },
   "outputs": [
    {
     "name": "stdout",
     "output_type": "stream",
     "text": [
      "       videoid side dataset        GDI  GDI_pred_1  GDI_pred_2  GDI_pred_3  \\\n",
      "0     10458301    L   train  69.980168   78.528910   84.442910   82.359010   \n",
      "1     10458301    R   train  74.511189   77.896520   84.989746   82.734375   \n",
      "2     10458302    L   train  80.202906   77.901870   84.747500   81.260160   \n",
      "3     10458302    R   train  81.629806   77.357550   85.535870   82.130066   \n",
      "4     10576905    L    test  59.865288   74.814690   79.812650   72.762955   \n",
      "...        ...  ...     ...        ...         ...         ...         ...   \n",
      "4419  41438702    R   train  94.814821   79.123566   85.592910   82.585140   \n",
      "4420  41438703    L   train  81.034817   78.957110   86.645710   85.129840   \n",
      "4421  41438703    R   train  76.400636   78.788820   86.036880   83.013535   \n",
      "4422  41438704    L   train  80.775921   78.696880   86.608696   86.902910   \n",
      "4423  41438704    R   train  85.915535   77.435540   84.526340   81.153990   \n",
      "\n",
      "      GDI_pred_4  GDI_pred_5  GDI_pred_6  ...  GDI_pred_91  GDI_pred_92  \\\n",
      "0      80.656610   82.110596   74.142870  ...    70.296580    70.026450   \n",
      "1      81.253006   83.826980   75.227990  ...    74.064760    74.497070   \n",
      "2      79.565155   82.741610   73.588310  ...    78.788345    78.878710   \n",
      "3      82.316250   82.395485   76.204210  ...    80.336900    80.195850   \n",
      "4      72.505190   72.359800   67.287490  ...    72.199310    70.612740   \n",
      "...          ...         ...         ...  ...          ...          ...   \n",
      "4419   81.259170   82.998380   77.642136  ...    92.988594    92.506905   \n",
      "4420   82.041600   83.885810   83.151970  ...    80.649124    80.689316   \n",
      "4421   81.806640   83.542946   82.360115  ...    76.206970    76.273920   \n",
      "4422   82.198880   84.925580   83.526640  ...    79.828430    80.053690   \n",
      "4423   79.599240   81.532480   78.503525  ...    85.636406    85.507706   \n",
      "\n",
      "      GDI_pred_93  GDI_pred_94  GDI_pred_95  GDI_pred_96  GDI_pred_97  \\\n",
      "0       70.730850    70.404050    70.923830    70.302500    70.629745   \n",
      "1       75.397650    74.561200    75.245290    74.865400    75.424500   \n",
      "2       79.268610    79.235146    79.542114    79.302540    79.608665   \n",
      "3       80.900960    81.579120    81.897060    81.816610    82.642075   \n",
      "4       68.601130    69.354460    70.108060    70.283190    71.411750   \n",
      "...           ...          ...          ...          ...          ...   \n",
      "4419    93.087770    93.024030    93.338960    93.774360    93.381546   \n",
      "4420    80.548530    80.201450    80.726820    80.628900    81.064620   \n",
      "4421    77.113780    76.927290    77.725770    77.442330    76.806830   \n",
      "4422    80.860794    80.646260    81.532790    81.429955    81.624400   \n",
      "4423    85.229470    85.609490    86.059120    85.576490    85.363205   \n",
      "\n",
      "      GDI_pred_98  GDI_pred_99  GDI_pred_100  \n",
      "0       70.494660    70.419960      70.11701  \n",
      "1       75.837746    74.578080      75.32989  \n",
      "2       79.224880    80.016630      80.17210  \n",
      "3       81.163150    80.493614      81.10542  \n",
      "4       71.186500    70.605835      69.85811  \n",
      "...           ...          ...           ...  \n",
      "4419    93.212320    93.654120      93.44195  \n",
      "4420    81.149380    80.889300      81.29350  \n",
      "4421    77.749900    76.738410      77.31075  \n",
      "4422    81.472700    81.176950      82.13570  \n",
      "4423    85.119960    85.534294      86.89453  \n",
      "\n",
      "[4424 rows x 104 columns]\n"
     ]
    }
   ],
   "source": [
    "target_col = \"GDI\"\n",
    "sided = \"\"\n",
    "predictions = pd.read_csv(\"C:/Google Drive/PHD NEW/predictions_new/rnn_bi_%s%s_predictions_all_epochs.csv\" % (target_col,sided),dtype={'videoid':int})\n",
    "print(predictions)"
   ]
  },
  {
   "cell_type": "code",
   "execution_count": 4,
   "metadata": {},
   "outputs": [
    {
     "name": "stdout",
     "output_type": "stream",
     "text": [
      "0.9542495942400365\n"
     ]
    }
   ],
   "source": [
    "# Finding correlation of complete dataset\n",
    "import array as arr\n",
    "corr = arr.array('d', [0])\n",
    "for i in range(1,100):\n",
    "    c = predictions[target_col].corr(predictions['%s_pred_%s' % (target_col,i)])\n",
    "    corr.append(c)\n",
    "# print(corr)\n",
    "max_corr = max(corr)\n",
    "print(max_corr)"
   ]
  },
  {
   "cell_type": "code",
   "execution_count": 5,
   "metadata": {},
   "outputs": [],
   "source": [
    "# Taking only test set\n",
    "predictions['videoid'] = predictions['videoid'].apply(lambda x: int(x))\n",
    "all_ids = set(predictions['videoid'])\n",
    "train_ids = set(predictions[predictions['dataset'] == 'train']['videoid'])\n",
    "validation_ids = set(predictions[predictions['dataset'] == 'validation']['videoid'])\n",
    "test_ids = set(predictions[predictions['dataset'] == 'test']['videoid'])\n",
    "# print(test_ids)\n",
    "p = predictions[predictions['dataset'] == 'test']\n"
   ]
  },
  {
   "cell_type": "code",
   "execution_count": 6,
   "metadata": {},
   "outputs": [
    {
     "name": "stdout",
     "output_type": "stream",
     "text": [
      "0.7543432280060542\n"
     ]
    }
   ],
   "source": [
    "# Finding correlation for test\n",
    "import array as arr\n",
    "corr = arr.array('d', [0])\n",
    "for i in range(1,100):\n",
    "    c = p[target_col].corr(p['%s_pred_%s' % (target_col,i)])\n",
    "    corr.append(c)\n",
    "# print(corr)\n",
    "max_corr = max(corr)\n",
    "print(max_corr)"
   ]
  },
  {
   "cell_type": "code",
   "execution_count": null,
   "metadata": {},
   "outputs": [],
   "source": []
  }
 ],
 "metadata": {
  "kernelspec": {
   "display_name": "Python 3",
   "language": "python",
   "name": "python3"
  },
  "language_info": {
   "codemirror_mode": {
    "name": "ipython",
    "version": 3
   },
   "file_extension": ".py",
   "mimetype": "text/x-python",
   "name": "python",
   "nbconvert_exporter": "python",
   "pygments_lexer": "ipython3",
   "version": "3.8.11"
  }
 },
 "nbformat": 4,
 "nbformat_minor": 2
}
